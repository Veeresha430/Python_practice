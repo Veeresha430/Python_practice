{
  "nbformat": 4,
  "nbformat_minor": 0,
  "metadata": {
    "colab": {
      "name": "pythoncoding.py",
      "provenance": [],
      "authorship_tag": "ABX9TyOuo7uQbPCy8TPw4zI69oW/",
      "include_colab_link": true
    },
    "kernelspec": {
      "name": "python3",
      "display_name": "Python 3"
    },
    "language_info": {
      "name": "python"
    }
  },
  "cells": [
    {
      "cell_type": "markdown",
      "metadata": {
        "id": "view-in-github",
        "colab_type": "text"
      },
      "source": [
        "<a href=\"https://colab.research.google.com/github/Veeresha430/Python_practice/blob/main/pythoncoding_py.ipynb\" target=\"_parent\"><img src=\"https://colab.research.google.com/assets/colab-badge.svg\" alt=\"Open In Colab\"/></a>"
      ]
    },
    {
      "cell_type": "code",
      "execution_count": 4,
      "metadata": {
        "colab": {
          "base_uri": "https://localhost:8080/"
        },
        "id": "ABBbsX726GPg",
        "outputId": "041be899-62e1-4371-f566-be58b1d72310"
      },
      "outputs": [
        {
          "output_type": "stream",
          "name": "stdout",
          "text": [
            "15\n",
            "veeresh\n",
            "VEERESH\n",
            "veeresh\n"
          ]
        }
      ],
      "source": [
        "a=5\n",
        "b=3\n",
        "s=a*b\n",
        "print(s)\n",
        "name=\"veeresh\"\n",
        "print(name[0:])\n",
        "print(name.upper())\n",
        "print(name.lower())"
      ]
    }
  ]
}