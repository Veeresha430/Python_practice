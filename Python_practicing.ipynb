{
  "nbformat": 4,
  "nbformat_minor": 0,
  "metadata": {
    "colab": {
      "name": "Python_practicing.ipynb",
      "provenance": [],
      "collapsed_sections": [],
      "authorship_tag": "ABX9TyMvGH9ml+cMzw7/F3DOzLr8",
      "include_colab_link": true
    },
    "kernelspec": {
      "name": "python3",
      "display_name": "Python 3"
    },
    "language_info": {
      "name": "python"
    }
  },
  "cells": [
    {
      "cell_type": "markdown",
      "metadata": {
        "id": "view-in-github",
        "colab_type": "text"
      },
      "source": [
        "<a href=\"https://colab.research.google.com/github/Veeresha430/Python_practice/blob/main/Python_practicing.ipynb\" target=\"_parent\"><img src=\"https://colab.research.google.com/assets/colab-badge.svg\" alt=\"Open In Colab\"/></a>"
      ]
    },
    {
      "cell_type": "code",
      "execution_count": 2,
      "metadata": {
        "id": "POsPSSX5qYGO"
      },
      "outputs": [],
      "source": [
        "## Hey I have started practicing python"
      ]
    },
    {
      "cell_type": "code",
      "source": [
        "num=[1,2,3,4,5,6,7]"
      ],
      "metadata": {
        "id": "RFYWT5t8qiZP"
      },
      "execution_count": 1,
      "outputs": []
    },
    {
      "cell_type": "code",
      "source": [
        "num2 = num*2\n",
        "print(num2)"
      ],
      "metadata": {
        "colab": {
          "base_uri": "https://localhost:8080/"
        },
        "id": "Zxmx-HlU3xO-",
        "outputId": "171a4183-614e-4018-a473-a145f1514c17"
      },
      "execution_count": 5,
      "outputs": [
        {
          "output_type": "stream",
          "name": "stdout",
          "text": [
            "[1, 2, 3, 4, 5, 6, 7, 1, 2, 3, 4, 5, 6, 7]\n"
          ]
        }
      ]
    }
  ]
}