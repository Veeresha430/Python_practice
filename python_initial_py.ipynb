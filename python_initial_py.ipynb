{
  "nbformat": 4,
  "nbformat_minor": 0,
  "metadata": {
    "colab": {
      "name": "python.initial.py",
      "provenance": [],
      "collapsed_sections": [],
      "authorship_tag": "ABX9TyOJUpesVCX0frQX3bOOvbGz",
      "include_colab_link": true
    },
    "kernelspec": {
      "name": "python3",
      "display_name": "Python 3"
    },
    "language_info": {
      "name": "python"
    }
  },
  "cells": [
    {
      "cell_type": "markdown",
      "metadata": {
        "id": "view-in-github",
        "colab_type": "text"
      },
      "source": [
        "<a href=\"https://colab.research.google.com/github/Veeresha430/Python_practice/blob/main/python_initial_py.ipynb\" target=\"_parent\"><img src=\"https://colab.research.google.com/assets/colab-badge.svg\" alt=\"Open In Colab\"/></a>"
      ]
    },
    {
      "cell_type": "code",
      "execution_count": 26,
      "metadata": {
        "colab": {
          "base_uri": "https://localhost:8080/"
        },
        "id": "2_lp2VV_9g76",
        "outputId": "fa972868-5756-4dfd-c4b7-b27aedf003c1"
      },
      "outputs": [
        {
          "output_type": "stream",
          "name": "stdout",
          "text": [
            "my name is veeresh\n",
            "MY NAME IS VEERESH\n",
            "18\n",
            "badresh\n",
            "99\n",
            "1156\n",
            "4.571428571428571\n",
            "6\n",
            "-2\n",
            "91\n",
            "name is91\n"
          ]
        }
      ],
      "source": [
        "name=\"my name is veeresh\"\n",
        "\n",
        "print(name[0:])\n",
        "print(name.upper())\n",
        "print(len(name))\n",
        "game=\"veeresh\"\n",
        "print(game.replace(\"vee\",\"bad\"))\n",
        "print(45+54)\n",
        "print(34*34)\n",
        "print(32/7)\n",
        "print(76%7)\n",
        "print(6-8)\n",
        "number =91\n",
        "num2=str(number)\n",
        "print(num2)\n",
        "print('name is'+ num2)\n"
      ]
    }
  ]
}